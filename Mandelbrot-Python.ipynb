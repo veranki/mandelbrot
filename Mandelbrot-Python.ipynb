{
 "cells": [
  {
   "cell_type": "code",
   "execution_count": 69,
   "metadata": {
    "collapsed": true
   },
   "outputs": [],
   "source": [
    "import numpy as np\n",
    "from matplotlib import pyplot as plt\n",
    "from matplotlib import colors\n",
    "%matplotlib inline"
   ]
  },
  {
   "cell_type": "code",
   "execution_count": 70,
   "metadata": {
    "collapsed": true
   },
   "outputs": [],
   "source": [
    "def mandelbrot_image(xmin,xmax,ymin,ymax,width=3,height=3,maxiter=80,cmap='hot'):\n",
    "    dpi = 72\n",
    "    img_width = dpi * width\n",
    "    img_height = dpi * height\n",
    "    x,y,z = mandelbrot_set(xmin,xmax,ymin,ymax,img_width,img_height,maxiter)\n",
    "    \n",
    "    fig, ax = plt.subplots(figsize=(width, height),dpi=72)\n",
    "    ticks = np.arange(0,img_width,3*dpi)\n",
    "    x_ticks = xmin + (xmax-xmin)*ticks/img_width\n",
    "    plt.xticks(ticks, x_ticks)\n",
    "    y_ticks = ymin + (ymax-ymin)*ticks/img_width\n",
    "    plt.yticks(ticks, y_ticks)\n",
    "    \n",
    "    norm = colors.PowerNorm(0.3)\n",
    "    ax.imshow(z.T,cmap=cmap,origin='lower',norm=norm)"
   ]
  },
  {
   "cell_type": "code",
   "execution_count": 71,
   "metadata": {
    "collapsed": true
   },
   "outputs": [],
   "source": [
    "#def mandelbrot(z,maxiter):\n",
    " #   c = z\n",
    "  #  for n in range(maxiter):\n",
    "   #     if abs(z) > 2:\n",
    "    #        return n\n",
    "     #   z = z*z + c\n",
    "    #return maxiter\n",
    "#def mandelbrot(c,maxiter):\n",
    " #   z = c\n",
    "  #  for n in range(maxiter):\n",
    "   #     if z.real * z.real + z.imag * z.imag > 4.0:\n",
    "    #        return n\n",
    "     #   z = z*z + c\n",
    "    #return 0\n",
    "def mandelbrot(creal,cimag,maxiter):\n",
    "    real = creal\n",
    "    imag = cimag\n",
    "    for n in range(maxiter):\n",
    "        real2 = real*real\n",
    "        imag2 = imag*imag\n",
    "        if real2 + imag2 > 4.0:\n",
    "            return n\n",
    "        imag = 2* real*imag + cimag\n",
    "        real = real2 - imag2 + creal       \n",
    "    return 0\n",
    "\n",
    "#def mandelbrot_set(xmin,xmax,ymin,ymax,width,height,maxiter):\n",
    " #   r1 = np.linspace(xmin, xmax, width)\n",
    "  #  r2 = np.linspace(ymin, ymax, height)\n",
    "   # return (r1,r2,[mandelbrot(complex(r, i),maxiter) for r in r1 for i in r2])\n",
    "def mandelbrot_set(xmin,xmax,ymin,ymax,width,height,maxiter):\n",
    "    r1 = np.linspace(xmin, xmax, width)\n",
    "    r2 = np.linspace(ymin, ymax, height)\n",
    "    n3 = np.empty((width,height))\n",
    "    for i in range(width):\n",
    "        for j in range(height):\n",
    "            n3[i,j] = mandelbrot(r1[i],r2[j],maxiter)\n",
    "    return (r1,r2,n3)"
   ]
  },
  {
   "cell_type": "code",
   "execution_count": 72,
   "metadata": {},
   "outputs": [
    {
     "name": "stdout",
     "output_type": "stream",
     "text": [
      "1 loop, best of 3: 7.67 s per loop\n"
     ]
    }
   ],
   "source": [
    "%timeit mandelbrot_set(-2.0,0.5,-1.25,1.25,1000,1000,10)"
   ]
  },
  {
   "cell_type": "code",
   "execution_count": null,
   "metadata": {
    "collapsed": true
   },
   "outputs": [],
   "source": []
  }
 ],
 "metadata": {},
 "nbformat": 4,
 "nbformat_minor": 2
}
